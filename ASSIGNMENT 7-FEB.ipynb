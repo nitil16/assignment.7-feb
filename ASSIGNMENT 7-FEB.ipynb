{
 "cells": [
  {
   "cell_type": "markdown",
   "id": "a9595a95-c7e2-44a1-9228-4382e7128b25",
   "metadata": {},
   "source": [
    "                                              ASSIGNMENT 7-FEB"
   ]
  },
  {
   "cell_type": "markdown",
   "id": "2498fdc8-d331-4ffc-867c-60dff510af05",
   "metadata": {},
   "source": [
    "QUESTION.1"
   ]
  },
  {
   "cell_type": "markdown",
   "id": "2145ca46-7533-4522-98a0-7f1e8377f4e2",
   "metadata": {},
   "source": [
    "Q1. You are writing code for a company. The requirement of the company is that you create a python\n",
    "function that will check whether the password entered by the user is correct or not. The function should\n",
    "take the password as input and return the string “Valid Password” if the entered password follows the\n",
    "below-given password guidelines else it should return “Invalid Password”.\n",
    "Note: 1. The Password should contain at least two uppercase letters and at least two lowercase letters.\n",
    "2. The Password should contain at least a number and three special characters.\n",
    "3. The length of the password should be 10 characters long."
   ]
  },
  {
   "cell_type": "code",
   "execution_count": null,
   "id": "444b5540-b26f-42dd-94e5-929d94779c9e",
   "metadata": {},
   "outputs": [],
   "source": []
  }
 ],
 "metadata": {
  "kernelspec": {
   "display_name": "Python 3 (ipykernel)",
   "language": "python",
   "name": "python3"
  },
  "language_info": {
   "codemirror_mode": {
    "name": "ipython",
    "version": 3
   },
   "file_extension": ".py",
   "mimetype": "text/x-python",
   "name": "python",
   "nbconvert_exporter": "python",
   "pygments_lexer": "ipython3",
   "version": "3.10.8"
  }
 },
 "nbformat": 4,
 "nbformat_minor": 5
}
